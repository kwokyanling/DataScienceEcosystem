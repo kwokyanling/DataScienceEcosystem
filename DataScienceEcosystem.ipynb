{
 "cells": [
  {
   "cell_type": "markdown",
   "id": "826fa699-03d1-4b67-847e-9b5039299924",
   "metadata": {
    "tags": []
   },
   "source": [
    "# Data Science Tools and Ecosystem\n",
    "\n",
    "In this notebook, Data Science Tools and Ecosystem are summarized.\n"
   ]
  },
  {
   "cell_type": "markdown",
   "id": "990c21e0-49d6-437c-ae30-0aa3cea46588",
   "metadata": {},
   "source": [
    "**Objectives:** \n",
    "\n",
    "- list popular languages in data science\n",
    "- list popular libraries in data science\n",
    "- list popular tools in data science\n"
   ]
  },
  {
   "cell_type": "markdown",
   "id": "c8c09ebc-ef3a-4d40-88c5-3c8be1486fd5",
   "metadata": {},
   "source": [
    "Some of the popular languages that Data Scientists use are:\n",
    "\n",
    "1. R\n",
    "2. Python \n",
    "3. C++"
   ]
  },
  {
   "cell_type": "markdown",
   "id": "36e1ea01-893a-4f25-880e-6ac755bbdd44",
   "metadata": {},
   "source": [
    "Some of the commonly used libraries used by Data Scientists include:\n",
    "\n",
    "1. NumPy\n",
    "2. Pandas\n",
    "3. Matplotlib"
   ]
  },
  {
   "cell_type": "markdown",
   "id": "0f09c1bf-986b-48aa-ab24-b31e714c58af",
   "metadata": {},
   "source": [
    "| Data Science Tools |\n",
    "|--------------------|\n",
    "| RStudio            |\n",
    "| Apache Spark       |\n",
    "| TensorFlow         |"
   ]
  },
  {
   "cell_type": "markdown",
   "id": "7beb59bb-8ef1-466d-9db8-88297c469d9f",
   "metadata": {},
   "source": [
    "### Below are a few examples of evaluating arithmetic expressions in Python\n"
   ]
  },
  {
   "cell_type": "code",
   "execution_count": 4,
   "id": "57a5db38-5624-4860-9bc6-ecf4a06b1143",
   "metadata": {
    "tags": []
   },
   "outputs": [
    {
     "data": {
      "text/plain": [
       "17"
      ]
     },
     "execution_count": 4,
     "metadata": {},
     "output_type": "execute_result"
    }
   ],
   "source": [
    "#This a simple arithmetic expression to mutiply then add integers\n",
    "(3*4)+5"
   ]
  },
  {
   "cell_type": "code",
   "execution_count": 5,
   "id": "4113b49b-8627-48e9-9da1-2aae4aa6725b",
   "metadata": {
    "tags": []
   },
   "outputs": [
    {
     "data": {
      "text/plain": [
       "3.3333333333333335"
      ]
     },
     "execution_count": 5,
     "metadata": {},
     "output_type": "execute_result"
    }
   ],
   "source": [
    "200/60\n",
    "#This will convert 200 minutes to hours by diving by 60"
   ]
  },
  {
   "cell_type": "markdown",
   "id": "204ad1a1-d33f-4149-8188-27958d5c509a",
   "metadata": {},
   "source": [
    "## Author\n",
    "Kwok Yan Ling"
   ]
  }
 ],
 "metadata": {
  "kernelspec": {
   "display_name": "Python",
   "language": "python",
   "name": "conda-env-python-py"
  },
  "language_info": {
   "codemirror_mode": {
    "name": "ipython",
    "version": 3
   },
   "file_extension": ".py",
   "mimetype": "text/x-python",
   "name": "python",
   "nbconvert_exporter": "python",
   "pygments_lexer": "ipython3",
   "version": "3.7.12"
  }
 },
 "nbformat": 4,
 "nbformat_minor": 5
}
